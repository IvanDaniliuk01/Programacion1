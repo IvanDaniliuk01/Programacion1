{
 "cells": [
  {
   "cell_type": "markdown",
   "id": "7b71001c",
   "metadata": {},
   "source": [
    "### Ejercicio 1\n",
    "Crear una función llamada `imprimir_hola_mundo` que imprima por pantalla el mensaje: “Hola Mundo!”. Llamar a esta función desde el programa principal."
   ]
  },
  {
   "cell_type": "code",
   "execution_count": 1,
   "id": "e980cb8b",
   "metadata": {},
   "outputs": [
    {
     "name": "stdout",
     "output_type": "stream",
     "text": [
      "Hola Mundo!\n"
     ]
    }
   ],
   "source": [
    "def imprimir_hola_mundo():\n",
    "    \"\"\"\n",
    "    Imprime 'Hola Mundo!' por pantalla.\n",
    "    \"\"\"\n",
    "    print(\"Hola Mundo!\")\n",
    "\n",
    "# --- Programa principal ---\n",
    "imprimir_hola_mundo()"
   ]
  },
  {
   "cell_type": "markdown",
   "id": "01ac1428",
   "metadata": {},
   "source": [
    "### Ejercicio 2\n",
    "Crear una función llamada `saludar_usuario(nombre)` que reciba como parámetro un nombre y devuelva un saludo personalizado. Por ejemplo, si se llama con `saludar_usuario(\"Marcos\")`, deberá devolver: “Hola Marcos!”. Llamar a esta función desde el programa principal solicitando el nombre al usuario."
   ]
  },
  {
   "cell_type": "code",
   "execution_count": 2,
   "id": "72786b8a",
   "metadata": {},
   "outputs": [
    {
     "name": "stdout",
     "output_type": "stream",
     "text": [
      "Hola Ivan!\n"
     ]
    }
   ],
   "source": [
    "def saludar_usuario(nombre):\n",
    "    \"\"\"\n",
    "    Recibe un 'nombre' y devuelve un saludo personalizado.\n",
    "    \"\"\"\n",
    "    return f\"Hola {nombre}!\"\n",
    "\n",
    "# --- Programa principal ---\n",
    "nombre_user = input(\"Ingrese su nombre: \")\n",
    "saludo = saludar_usuario(nombre_user)\n",
    "print(saludo)"
   ]
  },
  {
   "cell_type": "markdown",
   "id": "98f9ad93",
   "metadata": {},
   "source": [
    "### Ejercicio 3\n",
    "Crear una función llamada `informacion_personal(nombre, apellido, edad, residencia)` que reciba cuatro parámetros e imprima: “Soy [nombre] [apellido], tengo [edad] años y vivo en [residencia]”. Pedir los datos al usuario y llamar a esta función con los valores ingresados."
   ]
  },
  {
   "cell_type": "code",
   "execution_count": 3,
   "id": "8300dabc",
   "metadata": {},
   "outputs": [
    {
     "name": "stdout",
     "output_type": "stream",
     "text": [
      "Soy Ivan Daniliuk, tengo 22 años y vivo en Argentina.\n"
     ]
    }
   ],
   "source": [
    "def informacion_personal(nombre, apellido, edad, residencia):\n",
    "    \"\"\"\n",
    "    Imprime la información personal en el formato:\n",
    "    \"Soy [nombre] [apellido], tengo [edad] años y vivo en [residencia]\".\n",
    "    \"\"\"\n",
    "    print(f\"Soy {nombre} {apellido}, tengo {edad} años y vivo en {residencia}.\")\n",
    "\n",
    "# --- Programa principal ---\n",
    "nombre_pers = input(\"Nombre: \")\n",
    "apellido_pers = input(\"Apellido: \")\n",
    "edad_pers = input(\"Edad: \")\n",
    "residencia_pers = input(\"Residencia: \")\n",
    "\n",
    "informacion_personal(nombre_pers, apellido_pers, edad_pers, residencia_pers)"
   ]
  },
  {
   "cell_type": "markdown",
   "id": "85ffeeb0",
   "metadata": {},
   "source": [
    "### Ejercicio 4\n",
    "Crear dos funciones: `calcular_area_circulo(radio)` que reciba el radio como parámetro y devuelva el área del círculo, y `calcular_perimetro_circulo(radio)` que reciba el radio como parámetro y devuelva el perímetro del círculo. Solicitar el radio al usuario y llamar ambas funciones para mostrar los resultados."
   ]
  },
  {
   "cell_type": "code",
   "execution_count": 4,
   "id": "5cff6c73",
   "metadata": {},
   "outputs": [
    {
     "name": "stdout",
     "output_type": "stream",
     "text": [
      "Área del círculo: 9160.88\n",
      "Perímetro (circunferencia) del círculo: 339.29\n"
     ]
    }
   ],
   "source": [
    "import math\n",
    "\n",
    "def calcular_area_circulo(radio):\n",
    "    \"\"\"\n",
    "    Devuelve el área de un círculo dado su 'radio'.\n",
    "    Fórmula: π * radio^2\n",
    "    \"\"\"\n",
    "    return math.pi * (radio ** 2)\n",
    "\n",
    "def calcular_perimetro_circulo(radio):\n",
    "    \"\"\"\n",
    "    Devuelve el perímetro (circunferencia) de un círculo dado su 'radio'.\n",
    "    Fórmula: 2 * π * radio\n",
    "    \"\"\"\n",
    "    return 2 * math.pi * radio\n",
    "\n",
    "# --- Programa principal ---\n",
    "radio_str = input(\"Ingrese el radio del círculo: \")\n",
    "radio = float(radio_str)\n",
    "\n",
    "area = calcular_area_circulo(radio)\n",
    "perimetro = calcular_perimetro_circulo(radio)\n",
    "\n",
    "print(f\"Área del círculo: {area:.2f}\")\n",
    "print(f\"Perímetro (circunferencia) del círculo: {perimetro:.2f}\")"
   ]
  },
  {
   "cell_type": "markdown",
   "id": "35293d91",
   "metadata": {},
   "source": [
    "### Ejercicio 5\n",
    "Crear una función llamada `segundos_a_horas(segundos)` que reciba una cantidad de segundos como parámetro y devuelva la cantidad de horas correspondientes. Solicitar al usuario los segundos y mostrar el resultado usando esta función."
   ]
  },
  {
   "cell_type": "code",
   "execution_count": 6,
   "id": "1429fccc",
   "metadata": {},
   "outputs": [
    {
     "name": "stdout",
     "output_type": "stream",
     "text": [
      "3600 segundos equivalen a 1.00 horas.\n"
     ]
    }
   ],
   "source": [
    "def segundos_a_horas(segundos):\n",
    "    \"\"\"\n",
    "    Convierte una cantidad de 'segundos' en horas (número de horas en flotante).\n",
    "    \"\"\"\n",
    "    horas = segundos / 3600\n",
    "    return horas\n",
    "\n",
    "# --- Programa principal ---\n",
    "segundos_str = input(\"Ingrese la cantidad de segundos: \")\n",
    "segundos_int = int(segundos_str)\n",
    "\n",
    "horas_totales = segundos_a_horas(segundos_int)\n",
    "print(f\"{segundos_int} segundos equivalen a {horas_totales:.2f} horas.\")"
   ]
  },
  {
   "cell_type": "markdown",
   "id": "f31d11c9",
   "metadata": {},
   "source": [
    "### Ejercicio 6\n",
    "Crear una función llamada `tabla_multiplicar(numero)` que reciba un número como parámetro y imprima la tabla de multiplicar de ese número del 1 al 10. Pedir al usuario el número y llamar a la función."
   ]
  },
  {
   "cell_type": "code",
   "execution_count": 7,
   "id": "6e953fd9",
   "metadata": {},
   "outputs": [
    {
     "name": "stdout",
     "output_type": "stream",
     "text": [
      "1 x 1 = 1\n",
      "1 x 2 = 2\n",
      "1 x 3 = 3\n",
      "1 x 4 = 4\n",
      "1 x 5 = 5\n",
      "1 x 6 = 6\n",
      "1 x 7 = 7\n",
      "1 x 8 = 8\n",
      "1 x 9 = 9\n",
      "1 x 10 = 10\n"
     ]
    }
   ],
   "source": [
    "def tabla_multiplicar(numero):\n",
    "    \"\"\"\n",
    "    Imprime la tabla de multiplicar del 'numero' del 1 al 10.\n",
    "    \"\"\"\n",
    "    for i in range(1, 11):\n",
    "        resultado = numero * i\n",
    "        print(f\"{numero} x {i} = {resultado}\")\n",
    "\n",
    "# --- Programa principal ---\n",
    "num_tabla_str = input(\"Ingrese un número para ver su tabla de multiplicar: \")\n",
    "num_tabla = int(num_tabla_str)\n",
    "\n",
    "tabla_multiplicar(num_tabla)"
   ]
  },
  {
   "cell_type": "markdown",
   "id": "6908723e",
   "metadata": {},
   "source": [
    "### Ejercicio 7\n",
    "Crear una función llamada `operaciones_basicas(a, b)` que reciba dos números como parámetros y devuelva una tupla con el resultado de sumarlos, restarlos, multiplicarlos y dividirlos. Mostrar los resultados de forma clara."
   ]
  },
  {
   "cell_type": "code",
   "execution_count": 8,
   "id": "e3144516",
   "metadata": {},
   "outputs": [
    {
     "name": "stdout",
     "output_type": "stream",
     "text": [
      "Suma: 2.0\n",
      "Resta: 0.0\n",
      "Multiplicación: 1.0\n",
      "División: 1.0\n"
     ]
    }
   ],
   "source": [
    "def operaciones_basicas(a, b):\n",
    "    \"\"\"\n",
    "    Devuelve una tupla con (suma, resta, multiplicación, división).\n",
    "    Resta interpretada como a - b, división como a / b.\n",
    "    \"\"\"\n",
    "    suma = a + b\n",
    "    resta = a - b\n",
    "    multiplicacion = a * b\n",
    "    # Manejo básico de la división por cero:\n",
    "    division = a / b if b != 0 else None\n",
    "    \n",
    "    return (suma, resta, multiplicacion, division)\n",
    "\n",
    "# --- Programa principal ---\n",
    "a_str = input(\"Ingrese primer número: \")\n",
    "b_str = input(\"Ingrese segundo número: \")\n",
    "\n",
    "a_num = float(a_str)\n",
    "b_num = float(b_str)\n",
    "\n",
    "resultados = operaciones_basicas(a_num, b_num)\n",
    "suma, resta, mult, div = resultados\n",
    "\n",
    "print(f\"Suma: {suma}\")\n",
    "print(f\"Resta: {resta}\")\n",
    "print(f\"Multiplicación: {mult}\")\n",
    "if div is None:\n",
    "    print(\"División: No se puede dividir por cero.\")\n",
    "else:\n",
    "    print(f\"División: {div}\")"
   ]
  },
  {
   "cell_type": "markdown",
   "id": "37a18d1d",
   "metadata": {},
   "source": [
    "### Ejercicio 8\n",
    "Crear una función llamada `calcular_imc(peso, altura)` que reciba el peso en kilogramos y la altura en metros, y devuelva el índice de masa corporal (IMC). Solicitar al usuario los datos y llamar a la función para mostrar el resultado con dos decimales."
   ]
  },
  {
   "cell_type": "code",
   "execution_count": 9,
   "id": "10211396",
   "metadata": {},
   "outputs": [
    {
     "name": "stdout",
     "output_type": "stream",
     "text": [
      "Su IMC es 27.99\n"
     ]
    }
   ],
   "source": [
    "def calcular_imc(peso, altura):\n",
    "    \"\"\"\n",
    "    Calcula el Índice de Masa Corporal (IMC) dado el peso (kg) y la altura (m).\n",
    "    Fórmula: IMC = peso / (altura^2)\n",
    "    \"\"\"\n",
    "    return peso / (altura ** 2)\n",
    "\n",
    "# --- Programa principal ---\n",
    "peso_str = input(\"Ingrese su peso (kg): \")\n",
    "altura_str = input(\"Ingrese su altura (m): \")\n",
    "\n",
    "peso_f = float(peso_str)\n",
    "altura_f = float(altura_str)\n",
    "\n",
    "imc = calcular_imc(peso_f, altura_f)\n",
    "print(f\"Su IMC es {imc:.2f}\")"
   ]
  },
  {
   "cell_type": "markdown",
   "id": "2e6b9eec",
   "metadata": {},
   "source": [
    "### Ejercicio 9\n",
    "Crear una función llamada `celsius_a_fahrenheit(celsius)` que reciba una temperatura en grados Celsius y devuelva su equivalente en Fahrenheit. Pedir al usuario la temperatura en Celsius y mostrar el resultado usando la función."
   ]
  },
  {
   "cell_type": "code",
   "execution_count": 10,
   "id": "9f84cfa6",
   "metadata": {},
   "outputs": [
    {
     "name": "stdout",
     "output_type": "stream",
     "text": [
      "32.0 °C equivalen a 89.60 °F.\n"
     ]
    }
   ],
   "source": [
    "def celsius_a_fahrenheit(celsius):\n",
    "    \"\"\"\n",
    "    Convierte grados Celsius a Fahrenheit.\n",
    "    Fórmula: F = (C * 9/5) + 32\n",
    "    \"\"\"\n",
    "    return (celsius * 9/5) + 32\n",
    "\n",
    "# --- Programa principal ---\n",
    "temp_str = input(\"Ingrese la temperatura en °C: \")\n",
    "temp_c = float(temp_str)\n",
    "\n",
    "temp_f = celsius_a_fahrenheit(temp_c)\n",
    "print(f\"{temp_c} °C equivalen a {temp_f:.2f} °F.\")"
   ]
  },
  {
   "cell_type": "markdown",
   "id": "5d1b0f6b",
   "metadata": {},
   "source": [
    "### Ejercicio 10\n",
    "Crear una función llamada `calcular_promedio(a, b, c)` que reciba tres números como parámetros y devuelva el promedio de ellos. Solicitar los números al usuario y mostrar el resultado usando esta función."
   ]
  },
  {
   "cell_type": "code",
   "execution_count": 11,
   "id": "ba989c67",
   "metadata": {},
   "outputs": [
    {
     "name": "stdout",
     "output_type": "stream",
     "text": [
      "Ingrese tres números para calcular su promedio:\n",
      "El promedio de 1.0, 2.0 y 3.0 es 2.00.\n"
     ]
    }
   ],
   "source": [
    "def calcular_promedio(a, b, c):\n",
    "    \"\"\"\n",
    "    Recibe tres números y devuelve su promedio.\n",
    "    \"\"\"\n",
    "    return (a + b + c) / 3\n",
    "\n",
    "# --- Programa principal ---\n",
    "print(\"Ingrese tres números para calcular su promedio:\")\n",
    "a_str = input(\"Primer número: \")\n",
    "b_str = input(\"Segundo número: \")\n",
    "c_str = input(\"Tercer número: \")\n",
    "\n",
    "a_num = float(a_str)\n",
    "b_num = float(b_str)\n",
    "c_num = float(c_str)\n",
    "\n",
    "prom = calcular_promedio(a_num, b_num, c_num)\n",
    "print(f\"El promedio de {a_num}, {b_num} y {c_num} es {prom:.2f}.\")"
   ]
  }
 ],
 "metadata": {
  "kernelspec": {
   "display_name": "Python 3",
   "language": "python",
   "name": "python3"
  },
  "language_info": {
   "codemirror_mode": {
    "name": "ipython",
    "version": 3
   },
   "file_extension": ".py",
   "mimetype": "text/x-python",
   "name": "python",
   "nbconvert_exporter": "python",
   "pygments_lexer": "ipython3",
   "version": "3.12.6"
  }
 },
 "nbformat": 4,
 "nbformat_minor": 5
}
