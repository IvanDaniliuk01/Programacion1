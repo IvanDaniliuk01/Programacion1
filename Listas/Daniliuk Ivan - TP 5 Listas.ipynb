{
 "cells": [
  {
   "cell_type": "markdown",
   "id": "ca34d1cd",
   "metadata": {},
   "source": [
    "### Crear una lista con los números del 1 al 100 que sean múltiplos de 4.\n",
    "\n",
    "Explicación: Se utiliza range(4, 101, 4) para generar una secuencia de números que empieza en 4, termina antes de 101 (es decir, hasta 100) y avanza de 4 en 4. Luego, list() convierte esta secuencia en una lista."
   ]
  },
  {
   "cell_type": "code",
   "execution_count": 1,
   "id": "4a73e83a",
   "metadata": {},
   "outputs": [
    {
     "name": "stdout",
     "output_type": "stream",
     "text": [
      "[4, 8, 12, 16, 20, 24, 28, 32, 36, 40, 44, 48, 52, 56, 60, 64, 68, 72, 76, 80, 84, 88, 92, 96, 100]\n"
     ]
    }
   ],
   "source": [
    "# Crear una lista de múltiplos de 4 entre 1 y 100\n",
    "multiplos_de_4 = list(range(4, 101, 4))\n",
    "\n",
    "# Imprimir la lista resultante\n",
    "print(multiplos_de_4)"
   ]
  },
  {
   "cell_type": "markdown",
   "id": "87359043",
   "metadata": {},
   "source": [
    "### Crear una lista con cinco elementos y mostrar el penúltimo.\n",
    "\n",
    "Explicación: Se crea una lista mi_lista. Para acceder al penúltimo elemento, se usa el índice -2. "
   ]
  },
  {
   "cell_type": "code",
   "execution_count": 2,
   "id": "6dcf91af",
   "metadata": {},
   "outputs": [
    {
     "name": "stdout",
     "output_type": "stream",
     "text": [
      "uva\n"
     ]
    }
   ],
   "source": [
    "# Crear una lista con cinco elementos (puedes cambiarlos por los que prefieras)\n",
    "mi_lista = [\"manzana\", \"banana\", \"naranja\", \"uva\", \"pera\"]\n",
    "\n",
    "# Mostrar el penúltimo elemento usando indexación negativa\n",
    "# El índice -1 es el último elemento, -2 es el penúltimo\n",
    "penultimo_elemento = mi_lista[-2]\n",
    "\n",
    "# Imprimir el penúltimo elemento\n",
    "print(penultimo_elemento)"
   ]
  },
  {
   "cell_type": "markdown",
   "id": "a33d3d3d",
   "metadata": {},
   "source": [
    "### Crear una lista vacía, agregar tres palabras con append e imprimir.\n",
    "\n",
    "Explicación: Se inicializa una lista vacía palabras. El método append() se utiliza para añadir elementos al final de la lista."
   ]
  },
  {
   "cell_type": "code",
   "execution_count": 3,
   "id": "48313320",
   "metadata": {},
   "outputs": [
    {
     "name": "stdout",
     "output_type": "stream",
     "text": [
      "['Hola', 'Mundo', 'Python']\n"
     ]
    }
   ],
   "source": [
    "# Crear una lista vacía [cite: 9]\n",
    "palabras = []\n",
    "\n",
    "# Agregar tres palabras usando append()\n",
    "palabras.append(\"Hola\")\n",
    "palabras.append(\"Mundo\")\n",
    "palabras.append(\"Python\")\n",
    "\n",
    "# Imprimir la lista resultante\n",
    "print(palabras)"
   ]
  },
  {
   "cell_type": "markdown",
   "id": "21447002",
   "metadata": {},
   "source": [
    "### Reemplazar el segundo y último valor de la lista \"animales\" por \"loro\" y \"oso\".\n",
    "\n",
    "Explicación: Se accede a los elementos por su índice (1 para el segundo, -1 para el último) y se les asigna un nuevo valor para reemplazarlos."
   ]
  },
  {
   "cell_type": "code",
   "execution_count": 4,
   "id": "5b0b295b",
   "metadata": {},
   "outputs": [
    {
     "name": "stdout",
     "output_type": "stream",
     "text": [
      "['perro', 'loro', 'conejo', 'oso']\n"
     ]
    }
   ],
   "source": [
    "# Lista original de animales [cite: 12]\n",
    "animales = [\"perro\", \"gato\", \"conejo\", \"pez\"]\n",
    "\n",
    "# Reemplazar el segundo elemento (índice 1) por \"loro\"\n",
    "animales[1] = \"loro\"\n",
    "\n",
    "# Reemplazar el último elemento (índice -1) por \"oso\" [cite: 11]\n",
    "animales[-1] = \"oso\"\n",
    "\n",
    "# Imprimir la lista modificada\n",
    "print(animales)"
   ]
  },
  {
   "cell_type": "markdown",
   "id": "fdf5f702",
   "metadata": {},
   "source": [
    "### Analizar el siguiente programa y explicar qué realiza.\n",
    "\n",
    "Explicación: El programa inicializa una lista de números, encuentra el número más grande en esa lista y lo elimina. Finalmente, imprime la lista sin su elemento de mayor valor. La salida será: [8, 15, 3, 7]."
   ]
  },
  {
   "cell_type": "code",
   "execution_count": 5,
   "id": "f2108b50",
   "metadata": {},
   "outputs": [
    {
     "name": "stdout",
     "output_type": "stream",
     "text": [
      "[8, 15, 3, 7]\n"
     ]
    }
   ],
   "source": [
    "numeros = [8, 15, 3, 22, 7]\n",
    "numeros.remove(max(numeros))\n",
    "print(numeros)"
   ]
  },
  {
   "cell_type": "markdown",
   "id": "4c1eaa3f",
   "metadata": {},
   "source": [
    "### Crear una lista con números del 10 al 30 (incluido), con saltos de 5 en 5, y mostrar los dos primeros.\n",
    "\n",
    "Explicación: range(10, 31, 5) genera números desde 10 hasta 30 (inclusive), incrementando en 5. El slicing [0:2] extrae los elementos en los índices 0 y 1."
   ]
  },
  {
   "cell_type": "code",
   "execution_count": 6,
   "id": "bcfa593f",
   "metadata": {},
   "outputs": [
    {
     "name": "stdout",
     "output_type": "stream",
     "text": [
      "[10, 15]\n"
     ]
    }
   ],
   "source": [
    "# Crear la lista usando range(inicio, fin_mas_uno, salto)\n",
    "numeros_salto_5 = list(range(10, 31, 5)) # 31 para incluir el 30\n",
    "\n",
    "# Mostrar los dos primeros elementos usando slicing\n",
    "# El slicing [0:2] selecciona los elementos desde el índice 0 hasta el índice 2 (sin incluirlo)\n",
    "primeros_dos = numeros_salto_5[0:2]\n",
    "\n",
    "# Imprimir los dos primeros elementos\n",
    "print(primeros_dos)"
   ]
  },
  {
   "cell_type": "markdown",
   "id": "86c2592b",
   "metadata": {},
   "source": [
    "### Reemplazar los dos valores centrales (índices 1 y 2) de la lista \"autos\" por dos nuevos valores.\n",
    "\n",
    "Explicación: El slicing autos[1:3] selecciona los elementos en los índices 1 y 2 (\"polo\" y \"suran\"). Luego, se les asigna una nueva lista [\"nuevo_auto_1\", \"nuevo_auto_2\"], reemplazando los elementos originales."
   ]
  },
  {
   "cell_type": "code",
   "execution_count": 7,
   "id": "0dd6c38e",
   "metadata": {},
   "outputs": [
    {
     "name": "stdout",
     "output_type": "stream",
     "text": [
      "['sedan', 'nuevo_auto_1', 'nuevo_auto_2', 'gol']\n"
     ]
    }
   ],
   "source": [
    "# Lista original de autos [cite: 16]\n",
    "autos = [\"sedan\", \"polo\", \"suran\", \"gol\"]\n",
    "\n",
    "# Reemplazar los elementos en los índices 1 y 2 usando slicing\n",
    "# Se asigna una nueva lista de dos elementos al slice autos[1:3]\n",
    "autos[1:3] = [\"nuevo_auto_1\", \"nuevo_auto_2\"] # Puedes usar los valores que quieras\n",
    "\n",
    "# Imprimir la lista modificada\n",
    "print(autos)"
   ]
  },
  {
   "cell_type": "markdown",
   "id": "aff7a168",
   "metadata": {},
   "source": [
    "### Crear una lista vacía \"dobles\" y agregar el doble de 5, 10 y 15 usando append.\n",
    "\n",
    "Explicación: Se crea la lista dobles. El método append() se usa para añadir el resultado de las multiplicaciones (10, 20, 30) a la lista."
   ]
  },
  {
   "cell_type": "code",
   "execution_count": 8,
   "id": "0e50f667",
   "metadata": {},
   "outputs": [
    {
     "name": "stdout",
     "output_type": "stream",
     "text": [
      "[10, 20, 30]\n"
     ]
    }
   ],
   "source": [
    "# Crear una lista vacía\n",
    "dobles = []\n",
    "\n",
    "# Agregar el doble de 5, 10 y 15 directamente con append\n",
    "dobles.append(5 * 2)\n",
    "dobles.append(10 * 2)\n",
    "dobles.append(15 * 2)\n",
    "\n",
    "# Imprimir la lista resultante\n",
    "print(dobles)"
   ]
  },
  {
   "cell_type": "markdown",
   "id": "db550b07",
   "metadata": {},
   "source": [
    "### Manipular la lista anidada \"compras\".\n",
    "\n",
    "Explicación:\n",
    "\n",
    " - Se accede a las sublistas usando su índice (ej., compras[2] para la tercera lista).\n",
    " - Se usan append(), index() y asignación por índice, o remove() en las sublistas según corresponda para modificarlas."
   ]
  },
  {
   "cell_type": "code",
   "execution_count": 9,
   "id": "2d8bf8a2",
   "metadata": {},
   "outputs": [
    {
     "name": "stdout",
     "output_type": "stream",
     "text": [
      "[['leche'], ['arroz', 'tallarines', 'salsa'], ['agua', 'jugo']]\n"
     ]
    }
   ],
   "source": [
    "# Lista original de compras [cite: 18]\n",
    "compras = [[\"pan\", \"leche\"], [\"arroz\", \"fideos\", \"salsa\"], [\"agua\"]]\n",
    "\n",
    "# a) Agregar \"jugo\" a la lista del tercer cliente (índice 2) [cite: 18]\n",
    "compras[2].append(\"jugo\")\n",
    "\n",
    "# b) Reemplazar \"fideos\" por \"tallarines\" en la lista del segundo cliente (índice 1) [cite: 18]\n",
    "# Primero, encontrar el índice de \"fideos\" en la sublista\n",
    "indice_fideos = compras[1].index(\"fideos\")\n",
    "# Luego, reemplazar por el nuevo valor\n",
    "compras[1][indice_fideos] = \"tallarines\"\n",
    "\n",
    "# c) Eliminar \"pan\" de la lista del primer cliente (índice 0) [cite: 19]\n",
    "compras[0].remove(\"pan\")\n",
    "\n",
    "# d) Imprimir la lista resultante por pantalla [cite: 19]\n",
    "print(compras)"
   ]
  },
  {
   "cell_type": "markdown",
   "id": "403f1930",
   "metadata": {},
   "source": [
    "### Elaborar la lista anidada \"lista_anidada\" según las especificaciones.\n",
    "\n",
    "Explicación: Se construye la lista lista_anidada siguiendo la estructura pedida. La posición 2 contiene otra lista con tres números flotantes."
   ]
  },
  {
   "cell_type": "code",
   "execution_count": 10,
   "id": "d653439c",
   "metadata": {},
   "outputs": [
    {
     "name": "stdout",
     "output_type": "stream",
     "text": [
      "[15, True, [25.5, 57.9, 30.6], False]\n",
      "Elemento en [0]: 15\n",
      "Elemento en [1]: True\n",
      "Elemento en [2][0]: 25.5\n",
      "Elemento en [2][1]: 57.9\n",
      "Elemento en [2][2]: 30.6\n",
      "Elemento en [3]: False\n"
     ]
    }
   ],
   "source": [
    "# Crear la lista anidada directamente con los valores especificados\n",
    "lista_anidada = [\n",
    "    15,                     # Posición 0\n",
    "    True,                   # Posición 1\n",
    "    [25.5, 57.9, 30.6],     # Posición 2 (es otra lista)\n",
    "    False                   # Posición 3\n",
    "]\n",
    "\n",
    "# Imprimir la lista resultante por pantalla [cite: 20]\n",
    "print(lista_anidada)\n",
    "\n",
    "# Verificar los elementos específicos como control (opcional)\n",
    "print(\"Elemento en [0]:\", lista_anidada[0])\n",
    "print(\"Elemento en [1]:\", lista_anidada[1])\n",
    "print(\"Elemento en [2][0]:\", lista_anidada[2][0])\n",
    "print(\"Elemento en [2][1]:\", lista_anidada[2][1])\n",
    "print(\"Elemento en [2][2]:\", lista_anidada[2][2])\n",
    "print(\"Elemento en [3]:\", lista_anidada[3])"
   ]
  }
 ],
 "metadata": {
  "kernelspec": {
   "display_name": "Python 3",
   "language": "python",
   "name": "python3"
  },
  "language_info": {
   "codemirror_mode": {
    "name": "ipython",
    "version": 3
   },
   "file_extension": ".py",
   "mimetype": "text/x-python",
   "name": "python",
   "nbconvert_exporter": "python",
   "pygments_lexer": "ipython3",
   "version": "3.12.6"
  }
 },
 "nbformat": 4,
 "nbformat_minor": 5
}
