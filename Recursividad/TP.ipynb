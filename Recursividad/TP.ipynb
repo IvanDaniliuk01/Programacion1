{
 "cells": [
  {
   "cell_type": "markdown",
   "metadata": {},
   "source": [
    "**Ejercicio 1: Factorial de un número**\n",
    "\n",
    "Se solicita crear una función recursiva para calcular el factorial de un número. Luego, se debe utilizar esta función para calcular y mostrar en pantalla el factorial de todos los números enteros entre 1 y un número que indique el usuario."
   ]
  },
  {
   "cell_type": "code",
   "execution_count": 1,
   "metadata": {},
   "outputs": [
    {
     "name": "stdout",
     "output_type": "stream",
     "text": [
      "\n",
      "Factoriales desde 1 hasta 10:\n",
      "El factorial de 1 es: 1\n",
      "El factorial de 2 es: 2\n",
      "El factorial de 3 es: 6\n",
      "El factorial de 4 es: 24\n",
      "El factorial de 5 es: 120\n",
      "El factorial de 6 es: 720\n",
      "El factorial de 7 es: 5040\n",
      "El factorial de 8 es: 40320\n",
      "El factorial de 9 es: 362880\n",
      "El factorial de 10 es: 3628800\n"
     ]
    }
   ],
   "source": [
    "def factorial_recursivo(n):\n",
    "  \"\"\"\n",
    "  Calcula el factorial de un número de forma recursiva.\n",
    "\n",
    "  Args:\n",
    "    n: El número entero para el cual se calculará el factorial.\n",
    "\n",
    "  Returns:\n",
    "    El factorial de n.\n",
    "  \"\"\"\n",
    "  if n < 0:\n",
    "    return \"El factorial no está definido para números negativos\"\n",
    "  elif n == 0 or n == 1:\n",
    "    return 1\n",
    "  else:\n",
    "    return n * factorial_recursivo(n - 1)\n",
    "\n",
    "# Solicitar al usuario un número\n",
    "try:\n",
    "  numero_usuario = int(input(\"Ingrese un número entero para calcular los factoriales: \"))\n",
    "  if numero_usuario < 1:\n",
    "    print(\"Por favor, ingrese un número entero mayor o igual a 1.\")\n",
    "  else:\n",
    "    print(f\"\\nFactoriales desde 1 hasta {numero_usuario}:\")\n",
    "    for i in range(1, numero_usuario + 1):\n",
    "      print(f\"El factorial de {i} es: {factorial_recursivo(i)}\")\n",
    "except ValueError:\n",
    "  print(\"Entrada no válida. Por favor, ingrese un número entero.\")"
   ]
  },
  {
   "cell_type": "markdown",
   "metadata": {},
   "source": [
    "**Ejercicio 2: Serie de Fibonacci**\n",
    "\n",
    "Se debe crear una función recursiva que calcule el valor de la serie de Fibonacci en una posición indicada. Posteriormente, se mostrará la serie completa hasta la posición que el usuario especifique"
   ]
  },
  {
   "cell_type": "code",
   "execution_count": 4,
   "metadata": {},
   "outputs": [
    {
     "name": "stdout",
     "output_type": "stream",
     "text": [
      "\n",
      "Serie de Fibonacci hasta la posición 25:\n",
      "Fibonacci(0) = 0\n",
      "Fibonacci(1) = 1\n",
      "Fibonacci(2) = 1\n",
      "Fibonacci(3) = 2\n",
      "Fibonacci(4) = 3\n",
      "Fibonacci(5) = 5\n",
      "Fibonacci(6) = 8\n",
      "Fibonacci(7) = 13\n",
      "Fibonacci(8) = 21\n",
      "Fibonacci(9) = 34\n",
      "Fibonacci(10) = 55\n",
      "Fibonacci(11) = 89\n",
      "Fibonacci(12) = 144\n",
      "Fibonacci(13) = 233\n",
      "Fibonacci(14) = 377\n",
      "Fibonacci(15) = 610\n",
      "Fibonacci(16) = 987\n",
      "Fibonacci(17) = 1597\n",
      "Fibonacci(18) = 2584\n",
      "Fibonacci(19) = 4181\n",
      "Fibonacci(20) = 6765\n",
      "Fibonacci(21) = 10946\n",
      "Fibonacci(22) = 17711\n",
      "Fibonacci(23) = 28657\n",
      "Fibonacci(24) = 46368\n",
      "Fibonacci(25) = 75025\n"
     ]
    }
   ],
   "source": [
    "def fibonacci_recursivo(posicion):\n",
    "  \"\"\"\n",
    "  Calcula el valor de la serie de Fibonacci en una posición dada de forma recursiva.\n",
    "\n",
    "  Args:\n",
    "    posicion: La posición en la serie de Fibonacci (comenzando desde 0).\n",
    "\n",
    "  Returns:\n",
    "    El valor de Fibonacci en la posición dada.\n",
    "  \"\"\"\n",
    "  if posicion < 0:\n",
    "    return \"La posición debe ser un número entero no negativo\"\n",
    "  elif posicion == 0:\n",
    "    return 0\n",
    "  elif posicion == 1:\n",
    "    return 1\n",
    "  else:\n",
    "    return fibonacci_recursivo(posicion - 1) + fibonacci_recursivo(posicion - 2)\n",
    "\n",
    "# Solicitar al usuario una posición\n",
    "try:\n",
    "  posicion_usuario = int(input(\"Ingrese la posición hasta la cual desea ver la serie de Fibonacci: \"))\n",
    "  if posicion_usuario < 0:\n",
    "    print(\"Por favor, ingrese una posición no negativa.\")\n",
    "  else:\n",
    "    print(f\"\\nSerie de Fibonacci hasta la posición {posicion_usuario}:\")\n",
    "    for i in range(posicion_usuario + 1):\n",
    "      print(f\"Fibonacci({i}) = {fibonacci_recursivo(i)}\")\n",
    "except ValueError:\n",
    "  print(\"Entrada no válida. Por favor, ingrese un número entero.\")"
   ]
  },
  {
   "cell_type": "markdown",
   "metadata": {},
   "source": [
    "**Ejercicio 3: Potencia de un número**\n",
    "\n",
    "Se pide crear una función recursiva que calcule la potencia de un número base elevado a un exponente. Luego, se probará esta función en un algoritmo general. "
   ]
  },
  {
   "cell_type": "code",
   "execution_count": 5,
   "metadata": {},
   "outputs": [
    {
     "name": "stdout",
     "output_type": "stream",
     "text": [
      "\n",
      "5.0 elevado a la 2 es: 25.0\n"
     ]
    }
   ],
   "source": [
    "def potencia_recursiva(base, exponente):\n",
    "  \"\"\"\n",
    "  Calcula la potencia de un número base elevado a un exponente de forma recursiva.\n",
    "\n",
    "  Args:\n",
    "    base: El número base.\n",
    "    exponente: El exponente (debe ser un entero no negativo).\n",
    "\n",
    "  Returns:\n",
    "    El resultado de base elevado al exponente.\n",
    "  \"\"\"\n",
    "  if exponente < 0:\n",
    "    return \"El exponente debe ser un entero no negativo\"\n",
    "  elif exponente == 0:\n",
    "    return 1\n",
    "  else:\n",
    "    return base * potencia_recursiva(base, exponente - 1)\n",
    "\n",
    "# Probar la función\n",
    "try:\n",
    "  base_usuario = float(input(\"Ingrese el número base: \"))\n",
    "  exponente_usuario = int(input(\"Ingrese el exponente (entero no negativo): \"))\n",
    "\n",
    "  if exponente_usuario < 0:\n",
    "    print(\"El exponente debe ser un entero no negativo.\")\n",
    "  else:\n",
    "    resultado = potencia_recursiva(base_usuario, exponente_usuario)\n",
    "    print(f\"\\n{base_usuario} elevado a la {exponente_usuario} es: {resultado}\")\n",
    "except ValueError:\n",
    "  print(\"Entrada no válida. Por favor, ingrese números válidos.\")"
   ]
  }
 ],
 "metadata": {
  "kernelspec": {
   "display_name": "Python 3",
   "language": "python",
   "name": "python3"
  },
  "language_info": {
   "codemirror_mode": {
    "name": "ipython",
    "version": 3
   },
   "file_extension": ".py",
   "mimetype": "text/x-python",
   "name": "python",
   "nbconvert_exporter": "python",
   "pygments_lexer": "ipython3",
   "version": "3.13.3"
  }
 },
 "nbformat": 4,
 "nbformat_minor": 2
}
