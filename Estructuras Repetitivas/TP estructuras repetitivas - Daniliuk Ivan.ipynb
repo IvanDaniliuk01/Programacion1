{
 "cells": [
  {
   "cell_type": "markdown",
   "id": "ee69fd48",
   "metadata": {},
   "source": [
    "## Ejercicio 1\n",
    "\n",
    "Imprime en pantalla todos los números enteros desde 0 hasta 100 (incluyendo ambos extremos), en orden creciente, mostrando un número por línea."
   ]
  },
  {
   "cell_type": "code",
   "execution_count": 1,
   "id": "b48ab715",
   "metadata": {},
   "outputs": [
    {
     "name": "stdout",
     "output_type": "stream",
     "text": [
      "0\n",
      "1\n",
      "2\n",
      "3\n",
      "4\n",
      "5\n",
      "6\n",
      "7\n",
      "8\n",
      "9\n",
      "10\n",
      "11\n",
      "12\n",
      "13\n",
      "14\n",
      "15\n",
      "16\n",
      "17\n",
      "18\n",
      "19\n",
      "20\n",
      "21\n",
      "22\n",
      "23\n",
      "24\n",
      "25\n",
      "26\n",
      "27\n",
      "28\n",
      "29\n",
      "30\n",
      "31\n",
      "32\n",
      "33\n",
      "34\n",
      "35\n",
      "36\n",
      "37\n",
      "38\n",
      "39\n",
      "40\n",
      "41\n",
      "42\n",
      "43\n",
      "44\n",
      "45\n",
      "46\n",
      "47\n",
      "48\n",
      "49\n",
      "50\n",
      "51\n",
      "52\n",
      "53\n",
      "54\n",
      "55\n",
      "56\n",
      "57\n",
      "58\n",
      "59\n",
      "60\n",
      "61\n",
      "62\n",
      "63\n",
      "64\n",
      "65\n",
      "66\n",
      "67\n",
      "68\n",
      "69\n",
      "70\n",
      "71\n",
      "72\n",
      "73\n",
      "74\n",
      "75\n",
      "76\n",
      "77\n",
      "78\n",
      "79\n",
      "80\n",
      "81\n",
      "82\n",
      "83\n",
      "84\n",
      "85\n",
      "86\n",
      "87\n",
      "88\n",
      "89\n",
      "90\n",
      "91\n",
      "92\n",
      "93\n",
      "94\n",
      "95\n",
      "96\n",
      "97\n",
      "98\n",
      "99\n",
      "100\n"
     ]
    }
   ],
   "source": [
    "# Programa 1: Imprimir números de 0 a 100, uno por línea.\n",
    "for i in range(101):  # range(101) genera 0,1,...,100\n",
    "    print(i)"
   ]
  },
  {
   "cell_type": "markdown",
   "id": "6c393be9",
   "metadata": {},
   "source": [
    "## Ejercicio 2\n",
    "\n",
    "Solicita al usuario un número entero y determina la cantidad de dígitos que contiene."
   ]
  },
  {
   "cell_type": "code",
   "execution_count": 2,
   "id": "38b2e36e",
   "metadata": {},
   "outputs": [
    {
     "name": "stdout",
     "output_type": "stream",
     "text": [
      "La cantidad de dígitos es: 2\n"
     ]
    }
   ],
   "source": [
    "# Programa 2: Contar la cantidad de dígitos de un número.\n",
    "numero = input(\"Ingrese un número entero: \")\n",
    "# Si el número puede ser negativo, eliminamos el signo para contar solo dígitos.\n",
    "numero = numero.lstrip(\"-\")\n",
    "cantidad_digitos = len(numero)\n",
    "print(\"La cantidad de dígitos es:\", cantidad_digitos)"
   ]
  },
  {
   "cell_type": "markdown",
   "id": "30b997b4",
   "metadata": {},
   "source": [
    "## Ejercicio 3\n",
    "\n",
    "Suma todos los números enteros comprendidos entre dos valores dados por el usuario, excluyendo esos dos extremos."
   ]
  },
  {
   "cell_type": "code",
   "execution_count": 5,
   "id": "db84b050",
   "metadata": {},
   "outputs": [
    {
     "name": "stdout",
     "output_type": "stream",
     "text": [
      "La suma de los números entre 1 y 4 sin incluirlos es: 5\n"
     ]
    }
   ],
   "source": [
    "# Programa 3: Sumar números entre dos valores (excluyendo los extremos).\n",
    "valor1 = int(input(\"Ingrese el primer valor: \"))\n",
    "valor2 = int(input(\"Ingrese el segundo valor: \"))\n",
    "\n",
    "# Usamos min y max para determinar correctamente el rango.\n",
    "inferior = min(valor1, valor2)\n",
    "superior = max(valor1, valor2)\n",
    "\n",
    "suma = 0\n",
    "for num in range(inferior + 1, superior):\n",
    "    suma += num\n",
    "\n",
    "print(\"La suma de los números entre\", valor1, \"y\", valor2, \"sin incluirlos es:\", suma)"
   ]
  },
  {
   "cell_type": "markdown",
   "id": "ae3f88ec",
   "metadata": {},
   "source": [
    "## Ejercicio 4\n",
    "\n",
    "Permite al usuario ingresar números enteros y los suma en secuencia. El programa se detiene y muestra el total acumulado cuando el usuario ingresa 0."
   ]
  },
  {
   "cell_type": "code",
   "execution_count": 8,
   "id": "5e98c683",
   "metadata": {},
   "outputs": [
    {
     "name": "stdout",
     "output_type": "stream",
     "text": [
      "La suma acumulada es: 11\n"
     ]
    }
   ],
   "source": [
    "# Programa 4: Sumar números ingresados hasta que se ingrese 0.\n",
    "suma = 0\n",
    "while True:\n",
    "    numero = int(input(\"Ingrese un número entero (0 para terminar): \"))\n",
    "    if numero == 0:\n",
    "        break  # Termina el ciclo si se ingresa 0.\n",
    "    suma += numero\n",
    "print(\"La suma acumulada es:\", suma)"
   ]
  },
  {
   "cell_type": "markdown",
   "id": "711c5d46",
   "metadata": {},
   "source": [
    "## Ejercicio 5\n",
    "\n",
    "Crea un juego en el que el usuario deba adivinar un número aleatorio entre 0 y 9. Al final, muestra cuántos intentos fueron necesarios para acertar."
   ]
  },
  {
   "cell_type": "code",
   "execution_count": 9,
   "id": "170de93d",
   "metadata": {},
   "outputs": [
    {
     "name": "stdout",
     "output_type": "stream",
     "text": [
      "Intenta de nuevo.\n",
      "Intenta de nuevo.\n",
      "Intenta de nuevo.\n",
      "Intenta de nuevo.\n",
      "¡Felicidades! Adivinaste en 5 intentos.\n"
     ]
    }
   ],
   "source": [
    "# Programa 5: Juego de adivinanza de un número entre 0 y 9.\n",
    "import random\n",
    "\n",
    "numero_aleatorio = random.randint(0, 9)  # Genera un número al azar entre 0 y 9.\n",
    "intentos = 0\n",
    "\n",
    "while True:\n",
    "    intento = int(input(\"Adivina el número (entre 0 y 9): \"))\n",
    "    intentos += 1\n",
    "    if intento == numero_aleatorio:\n",
    "        break  # Sale del ciclo si el usuario adivina el número.\n",
    "    else:\n",
    "        print(\"Intenta de nuevo.\")\n",
    "print(\"¡Felicidades! Adivinaste en\", intentos, \"intentos.\")"
   ]
  },
  {
   "cell_type": "markdown",
   "id": "e4fe8854",
   "metadata": {},
   "source": [
    "## Ejercicio 6\n",
    "\n",
    "Imprime en pantalla todos los números pares comprendidos entre 0 y 100, en orden decreciente."
   ]
  },
  {
   "cell_type": "code",
   "execution_count": 10,
   "id": "454ee98e",
   "metadata": {},
   "outputs": [
    {
     "name": "stdout",
     "output_type": "stream",
     "text": [
      "100\n",
      "98\n",
      "96\n",
      "94\n",
      "92\n",
      "90\n",
      "88\n",
      "86\n",
      "84\n",
      "82\n",
      "80\n",
      "78\n",
      "76\n",
      "74\n",
      "72\n",
      "70\n",
      "68\n",
      "66\n",
      "64\n",
      "62\n",
      "60\n",
      "58\n",
      "56\n",
      "54\n",
      "52\n",
      "50\n",
      "48\n",
      "46\n",
      "44\n",
      "42\n",
      "40\n",
      "38\n",
      "36\n",
      "34\n",
      "32\n",
      "30\n",
      "28\n",
      "26\n",
      "24\n",
      "22\n",
      "20\n",
      "18\n",
      "16\n",
      "14\n",
      "12\n",
      "10\n",
      "8\n",
      "6\n",
      "4\n",
      "2\n",
      "0\n"
     ]
    }
   ],
   "source": [
    "# Programa 6: Mostrar números pares entre 0 y 100 en orden decreciente.\n",
    "# Se puede usar range con paso -2, iniciando en 100 (que es par) y terminando en -1 para incluir el 0.\n",
    "for i in range(100, -1, -2):\n",
    "    print(i)"
   ]
  },
  {
   "cell_type": "markdown",
   "id": "e418948a",
   "metadata": {},
   "source": [
    "## Ejercicio 7\n",
    "\n",
    "Calcula la suma de todos los números comprendidos entre 0 y un número entero positivo indicado por el usuario."
   ]
  },
  {
   "cell_type": "code",
   "execution_count": 13,
   "id": "4a871986",
   "metadata": {},
   "outputs": [
    {
     "name": "stdout",
     "output_type": "stream",
     "text": [
      "La suma de los números entre 0 y 3 es: 6\n"
     ]
    }
   ],
   "source": [
    "# Programa 7: Sumar todos los números desde 0 hasta un número ingresado.\n",
    "numero = int(input(\"Ingrese un número entero positivo: \"))\n",
    "suma = 0\n",
    "for i in range(numero + 1):  # Incluye el número ingresado.\n",
    "    suma += i\n",
    "print(\"La suma de los números entre 0 y\", numero, \"es:\", suma)"
   ]
  },
  {
   "cell_type": "markdown",
   "id": "8b7d60e8",
   "metadata": {},
   "source": [
    "## Ejercicio 8\n",
    "\n",
    "Permite ingresar 100 números enteros y luego muestra cuántos de estos números son pares, cuántos son impares, cuántos son negativos y cuántos son positivos."
   ]
  },
  {
   "cell_type": "code",
   "execution_count": null,
   "id": "534b2835",
   "metadata": {},
   "outputs": [
    {
     "name": "stdout",
     "output_type": "stream",
     "text": [
      "Pares: 2\n",
      "Impares: 3\n",
      "Positivos: 5\n",
      "Negativos: 0\n"
     ]
    }
   ],
   "source": [
    "# Programa 8: Contar pares, impares, positivos y negativos entre 100 números ingresados.\n",
    "cantidad = 100\n",
    "pares = 0\n",
    "impares = 0\n",
    "positivos = 0\n",
    "negativos = 0\n",
    "\n",
    "for i in range(cantidad):\n",
    "    num = int(input(\"Ingrese el número entero {}: \".format(i+1)))\n",
    "    if num % 2 == 0:\n",
    "        pares += 1\n",
    "    else:\n",
    "        impares += 1\n",
    "    if num > 0:\n",
    "        positivos += 1\n",
    "    elif num < 0:\n",
    "        negativos += 1\n",
    "\n",
    "print(\"Pares:\", pares)\n",
    "print(\"Impares:\", impares)\n",
    "print(\"Positivos:\", positivos)\n",
    "print(\"Negativos:\", negativos)"
   ]
  },
  {
   "cell_type": "markdown",
   "id": "a56e0760",
   "metadata": {},
   "source": [
    "## Ejercicio 9\n",
    "\n",
    "Permite ingresar 100 números enteros y luego calcula la media de esos valores."
   ]
  },
  {
   "cell_type": "code",
   "execution_count": 16,
   "id": "473a4fa4",
   "metadata": {},
   "outputs": [
    {
     "name": "stdout",
     "output_type": "stream",
     "text": [
      "La media de los 5 números es: 3.0\n"
     ]
    }
   ],
   "source": [
    "# Programa 9: Calcular la media de 100 números ingresados.\n",
    "cantidad = 5  # Cambia este valor para pruebas.\n",
    "suma = 0\n",
    "\n",
    "for i in range(cantidad):\n",
    "    num = int(input(\"Ingrese el número entero {}: \".format(i+1)))\n",
    "    suma += num\n",
    "\n",
    "media = suma / cantidad\n",
    "print(\"La media de los\", cantidad, \"números es:\", media)"
   ]
  },
  {
   "cell_type": "markdown",
   "id": "19a625c1",
   "metadata": {},
   "source": [
    "## Ejercicio 10\n",
    "\n",
    "Invierte el orden de los dígitos de un número ingresado por el usuario."
   ]
  },
  {
   "cell_type": "code",
   "execution_count": 17,
   "id": "c1fe7473",
   "metadata": {},
   "outputs": [
    {
     "name": "stdout",
     "output_type": "stream",
     "text": [
      "El número invertido es: 75\n"
     ]
    }
   ],
   "source": [
    "# Programa 10: Invertir el orden de los dígitos de un número.\n",
    "numero = input(\"Ingrese un número: \")  # Se ingresa como cadena para facilitar la inversión.\n",
    "numero_invertido = numero[::-1]  # Se invierte la cadena utilizando slicing.\n",
    "print(\"El número invertido es:\", numero_invertido)"
   ]
  }
 ],
 "metadata": {
  "kernelspec": {
   "display_name": "Python 3",
   "language": "python",
   "name": "python3"
  },
  "language_info": {
   "codemirror_mode": {
    "name": "ipython",
    "version": 3
   },
   "file_extension": ".py",
   "mimetype": "text/x-python",
   "name": "python",
   "nbconvert_exporter": "python",
   "pygments_lexer": "ipython3",
   "version": "3.12.6"
  }
 },
 "nbformat": 4,
 "nbformat_minor": 5
}
