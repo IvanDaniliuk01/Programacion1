{
  "cells": [
    {
      "cell_type": "markdown",
      "metadata": {},
      "source": [
        "# TP 6 - Estructuras de Datos Complejas\n",
        "## Práctico 6: Estructuras de datos complejas\n",
        "\n",
        "En este notebook se muestran las consignas y sus respectivas resoluciones en Python.\n",
        "\n",
        "### Actividad 1\n",
        "Dado el diccionario `precios_frutas = {'Banana': 1200, 'Ananá': 2500, 'Melón': 3000, 'Uva': 1450}`, añadir las siguientes frutas con sus respectivos precios:\n",
        "- **Naranja** = 1200\n",
        "- **Manzana** = 1500\n",
        "- **Pera** = 2300\n"
      ]
    },
    {
      "cell_type": "code",
      "execution_count": 1,
      "metadata": {},
      "outputs": [
        {
          "name": "stdout",
          "output_type": "stream",
          "text": [
            "Diccionario tras agregar nuevas frutas: {'Banana': 1200, 'Ananá': 2500, 'Melón': 3000, 'Uva': 1450, 'Naranja': 1200, 'Manzana': 1500, 'Pera': 2300}\n"
          ]
        }
      ],
      "source": [
        "precios_frutas = {'Banana': 1200, 'Ananá': 2500, 'Melón': 3000, 'Uva': 1450}\n",
        "\n",
        "# Agregar las frutas\n",
        "precios_frutas['Naranja'] = 1200\n",
        "precios_frutas['Manzana'] = 1500\n",
        "precios_frutas['Pera'] = 2300\n",
        "\n",
        "# Mostrar resultado\n",
        "print(\"Diccionario tras agregar nuevas frutas:\", precios_frutas)"
      ]
    },
    {
      "cell_type": "markdown",
      "metadata": {},
      "source": [
        "### Actividad 2\n",
        "Siguiendo con el diccionario `precios_frutas` resultante del punto anterior, **actualizar** los precios de las siguientes frutas:\n",
        "- **Banana** = 1330\n",
        "- **Manzana** = 1700\n",
        "- **Melón** = 2800"
      ]
    },
    {
      "cell_type": "code",
      "execution_count": 2,
      "metadata": {},
      "outputs": [
        {
          "name": "stdout",
          "output_type": "stream",
          "text": [
            "Diccionario tras las actualizaciones: {'Banana': 1330, 'Ananá': 2500, 'Melón': 2800, 'Uva': 1450, 'Naranja': 1200, 'Manzana': 1700, 'Pera': 2300}\n"
          ]
        }
      ],
      "source": [
        "# Actualizar precios en el diccionario existente\n",
        "precios_frutas['Banana'] = 1330\n",
        "precios_frutas['Manzana'] = 1700\n",
        "precios_frutas['Melón'] = 2800\n",
        "\n",
        "# Mostrar resultado\n",
        "print(\"Diccionario tras las actualizaciones:\", precios_frutas)"
      ]
    },
    {
      "cell_type": "markdown",
      "metadata": {},
      "source": [
        "### Actividad 3\n",
        "Siguiendo con el diccionario `precios_frutas` (ya actualizado), crear una **lista** que contenga **únicamente** las frutas (sin los precios)."
      ]
    },
    {
      "cell_type": "code",
      "execution_count": 3,
      "metadata": {},
      "outputs": [
        {
          "name": "stdout",
          "output_type": "stream",
          "text": [
            "Lista de frutas: ['Banana', 'Ananá', 'Melón', 'Uva', 'Naranja', 'Manzana', 'Pera']\n"
          ]
        }
      ],
      "source": [
        "# Crear una lista con las frutas (claves)\n",
        "lista_frutas = list(precios_frutas.keys())\n",
        "print(\"Lista de frutas:\", lista_frutas)"
      ]
    },
    {
      "cell_type": "markdown",
      "metadata": {},
      "source": [
        "### Actividad 4\n",
        "Crear una **clase** llamada `Persona` que contenga un método `__init__` con los atributos `nombre`, `pais` y `edad`; y un método `saludar`.\n",
        "El método `saludar` debe imprimir por pantalla un mensaje siguiendo la estructura:\n",
        "```\n",
        "¡Hola! Soy [nombre], vivo en [pais] y tengo [edad] años.\n",
        "```"
      ]
    },
    {
      "cell_type": "code",
      "execution_count": 4,
      "metadata": {},
      "outputs": [
        {
          "name": "stdout",
          "output_type": "stream",
          "text": [
            "¡Hola! Soy Ana, vivo en Argentina y tengo 30 años.\n"
          ]
        }
      ],
      "source": [
        "class Persona:\n",
        "    def __init__(self, nombre, pais, edad):\n",
        "        self.nombre = nombre\n",
        "        self.pais = pais\n",
        "        self.edad = edad\n",
        "\n",
        "    def saludar(self):\n",
        "        print(f\"¡Hola! Soy {self.nombre}, vivo en {self.pais} y tengo {self.edad} años.\")\n",
        "\n",
        "# Ejemplo de uso:\n",
        "p1 = Persona(\"Ana\", \"Argentina\", 30)\n",
        "p1.saludar()"
      ]
    },
    {
      "cell_type": "markdown",
      "metadata": {},
      "source": [
        "### Actividad 5\n",
        "Crear una clase llamada `Circulo` que contenga el atributo `radio` y los métodos `calcular_area` y `calcular_perimetro`.\n",
        "Dichos métodos deben calcular el área y el perímetro, respectivamente. Se puede usar el módulo `math` para la constante `pi`."
      ]
    },
    {
      "cell_type": "code",
      "execution_count": 5,
      "metadata": {},
      "outputs": [
        {
          "name": "stdout",
          "output_type": "stream",
          "text": [
            "Área: 78.53981633974483\n",
            "Perímetro: 31.41592653589793\n"
          ]
        }
      ],
      "source": [
        "import math\n",
        "\n",
        "class Circulo:\n",
        "    def __init__(self, radio):\n",
        "        self.radio = radio\n",
        "\n",
        "    def calcular_area(self):\n",
        "        return math.pi * (self.radio ** 2)\n",
        "\n",
        "    def calcular_perimetro(self):\n",
        "        return 2 * math.pi * self.radio\n",
        "\n",
        "# Ejemplo de uso:\n",
        "c = Circulo(5)\n",
        "print(\"Área:\", c.calcular_area())\n",
        "print(\"Perímetro:\", c.calcular_perimetro())"
      ]
    },
    {
      "cell_type": "markdown",
      "metadata": {},
      "source": [
        "### Actividad 6\n",
        "Dado un string con paréntesis `()`, `{}`, `[]`, verificar si están correctamente **balanceados** usando una pila.\n",
        "Ejemplo de entrada y salida:\n",
        "- Entrada: `\"( [ ] )\"`\n",
        "- Salida: `True` (correctamente balanceados)"
      ]
    },
    {
      "cell_type": "code",
      "execution_count": 6,
      "metadata": {},
      "outputs": [
        {
          "name": "stdout",
          "output_type": "stream",
          "text": [
            "( [ ] ) balanceado?: True\n",
            "( [ ) ] balanceado?: False\n"
          ]
        }
      ],
      "source": [
        "def estan_balanceados(expresion):\n",
        "    stack = []\n",
        "    pares = {\n",
        "        ')': '(',\n",
        "        ']': '[',\n",
        "        '}': '{'\n",
        "    }\n",
        "\n",
        "    for char in expresion:\n",
        "        if char in '([{':\n",
        "            stack.append(char)\n",
        "        elif char in ')]}':\n",
        "            if not stack or stack.pop() != pares[char]:\n",
        "                return False\n",
        "    return len(stack) == 0\n",
        "\n",
        "# Ejemplo de prueba\n",
        "ej1 = \"( [ ] )\"\n",
        "print(ej1, \"balanceado?:\", estan_balanceados(ej1))\n",
        "\n",
        "ej2 = \"( [ ) ]\"\n",
        "print(ej2, \"balanceado?:\", estan_balanceados(ej2))"
      ]
    },
    {
      "cell_type": "markdown",
      "metadata": {},
      "source": [
        "### Actividad 7\n",
        "Usar una **cola** para simular un sistema de turnos en un banco. La cola debe permitir:\n",
        "- **Agregar clientes** (encolar)\n",
        "- **Atender clientes** (desencolar)\n",
        "- **Mostrar** el siguiente cliente en la fila"
      ]
    },
    {
      "cell_type": "code",
      "execution_count": 7,
      "metadata": {},
      "outputs": [
        {
          "name": "stdout",
          "output_type": "stream",
          "text": [
            "Cliente Cliente1 agregado a la cola.\n",
            "Cliente Cliente2 agregado a la cola.\n",
            "Siguiente cliente en la fila: Cliente1\n",
            "Se está atendiendo al cliente: Cliente1\n",
            "Se está atendiendo al cliente: Cliente2\n",
            "No hay clientes en la cola.\n"
          ]
        }
      ],
      "source": [
        "from collections import deque\n",
        "\n",
        "class Banco:\n",
        "    def __init__(self):\n",
        "        self.cola = deque()\n",
        "\n",
        "    def encolar_cliente(self, nombre):\n",
        "        self.cola.append(nombre)\n",
        "        print(f\"Cliente {nombre} agregado a la cola.\")\n",
        "\n",
        "    def atender_cliente(self):\n",
        "        if self.cola:\n",
        "            cliente = self.cola.popleft()\n",
        "            print(f\"Se está atendiendo al cliente: {cliente}\")\n",
        "        else:\n",
        "            print(\"No hay clientes en la cola.\")\n",
        "\n",
        "    def siguiente_cliente(self):\n",
        "        if self.cola:\n",
        "            print(f\"Siguiente cliente en la fila: {self.cola[0]}\")\n",
        "        else:\n",
        "            print(\"No hay clientes en la cola.\")\n",
        "\n",
        "# Ejemplo de uso\n",
        "banco = Banco()\n",
        "banco.encolar_cliente(\"Cliente1\")\n",
        "banco.encolar_cliente(\"Cliente2\")\n",
        "banco.siguiente_cliente()\n",
        "banco.atender_cliente()\n",
        "banco.atender_cliente()\n",
        "banco.atender_cliente()"
      ]
    },
    {
      "cell_type": "markdown",
      "metadata": {},
      "source": [
        "### Actividad 8\n",
        "Crear una **lista enlazada** que permita **insertar nodos al inicio** y recorrer la lista para mostrar los valores almacenados."
      ]
    },
    {
      "cell_type": "code",
      "execution_count": null,
      "metadata": {},
      "outputs": [
        {
          "name": "stdout",
          "output_type": "stream",
          "text": [
            "30 -> 20 -> 10 -> None\n"
          ]
        }
      ],
      "source": [
        "class Nodo:\n",
        "    def __init__(self, dato):\n",
        "        self.dato = dato\n",
        "        self.siguiente = None\n",
        "\n",
        "class ListaEnlazada:\n",
        "    def __init__(self):\n",
        "        self.cabeza = None\n",
        "\n",
        "    def insertar_inicio(self, valor):\n",
        "        nuevo_nodo = Nodo(valor)\n",
        "        # El nuevo nodo apunta a la antigua cabeza\n",
        "        nuevo_nodo.siguiente = self.cabeza\n",
        "        # La cabeza ahora es el nuevo nodo\n",
        "        self.cabeza = nuevo_nodo\n",
        "\n",
        "    def mostrar(self):\n",
        "        actual = self.cabeza\n",
        "        while actual:\n",
        "            print(actual.dato, end=\" -> \")\n",
        "            actual = actual.siguiente\n",
        "        print(\"None\")\n",
        "\n",
        "# Ejemplo de uso\n",
        "lista_enlazada = ListaEnlazada()\n",
        "lista_enlazada.insertar_inicio(10)\n",
        "lista_enlazada.insertar_inicio(20)\n",
        "lista_enlazada.insertar_inicio(30)\n",
        "lista_enlazada.mostrar()"
      ]
    },
    {
      "cell_type": "markdown",
      "metadata": {},
      "source": [
        "### Actividad 9\n",
        "Dada una lista enlazada, implementar una función para **invertirla**."
      ]
    },
    {
      "cell_type": "code",
      "execution_count": 9,
      "metadata": {},
      "outputs": [
        {
          "name": "stdout",
          "output_type": "stream",
          "text": [
            "30 -> 20 -> 10 -> None\n",
            "10 -> 20 -> 30 -> None\n"
          ]
        }
      ],
      "source": [
        "def invertir_lista_enlazada(lista):\n",
        "    previo = None\n",
        "    actual = lista.cabeza\n",
        "\n",
        "    while actual:\n",
        "        siguiente = actual.siguiente\n",
        "        # Invertir la referencia\n",
        "        actual.siguiente = previo\n",
        "        # Avanzar los punteros\n",
        "        previo = actual\n",
        "        actual = siguiente\n",
        "\n",
        "    # Al final, 'previo' es la nueva cabeza\n",
        "    lista.cabeza = previo\n",
        "\n",
        "# Probamos con la misma lista enlazada de la actividad anterior\n",
        "lista_enlazada.mostrar()  # Estado actual\n",
        "invertir_lista_enlazada(lista_enlazada)\n",
        "lista_enlazada.mostrar()  # Tras invertir"
      ]
    }
  ],
  "metadata": {
    "kernelspec": {
      "display_name": "Python 3",
      "language": "python",
      "name": "python3"
    },
    "language_info": {
      "codemirror_mode": {
        "name": "ipython",
        "version": 3
      },
      "file_extension": ".py",
      "mimetype": "text/x-python",
      "name": "python",
      "nbconvert_exporter": "python",
      "pygments_lexer": "ipython3",
      "version": "3.12.6"
    }
  },
  "nbformat": 4,
  "nbformat_minor": 2
}
